{
 "cells": [
  {
   "cell_type": "code",
   "execution_count": 1,
   "metadata": {
    "execution": {
     "iopub.execute_input": "2021-08-22T14:58:53.491375Z",
     "iopub.status.busy": "2021-08-22T14:58:53.490983Z",
     "iopub.status.idle": "2021-08-22T14:58:54.302468Z",
     "shell.execute_reply": "2021-08-22T14:58:54.301647Z",
     "shell.execute_reply.started": "2021-08-22T14:58:53.491294Z"
    }
   },
   "outputs": [],
   "source": [
    "import pandas as pd\n",
    "import numpy as np\n",
    "import os\n",
    "from glob import glob\n",
    "import random\n",
    "import matplotlib.pylab as plt\n",
    "import seaborn as sns\n",
    "pd.set_option('display.max_colwidth', None)"
   ]
  },
  {
   "cell_type": "code",
   "execution_count": 2,
   "metadata": {
    "execution": {
     "iopub.execute_input": "2021-08-22T14:58:54.304292Z",
     "iopub.status.busy": "2021-08-22T14:58:54.303939Z",
     "iopub.status.idle": "2021-08-22T14:58:58.608811Z",
     "shell.execute_reply": "2021-08-22T14:58:58.607985Z",
     "shell.execute_reply.started": "2021-08-22T14:58:54.304256Z"
    }
   },
   "outputs": [],
   "source": [
    "import tensorflow as tf\n",
    "from tensorflow import keras\n",
    "from tensorflow.keras import backend as K\n",
    "from tensorflow.keras.layers import Dense, Activation,Dropout,Conv2D, MaxPooling2D,BatchNormalization, Flatten\n",
    "from tensorflow.keras.optimizers import Adam, Adamax\n",
    "from tensorflow.keras.metrics import categorical_crossentropy\n",
    "from tensorflow.keras import regularizers\n",
    "from tensorflow.keras.preprocessing.image import ImageDataGenerator\n",
    "from tensorflow.keras.models import Model, load_model, Sequential\n",
    "import numpy as np\n",
    "import pandas as pd\n",
    "import shutil\n",
    "import time\n",
    "from sklearn.model_selection import train_test_split\n",
    "import matplotlib.pyplot as plt\n",
    "from matplotlib.pyplot import imshow\n",
    "import os\n",
    "import seaborn as sns\n",
    "sns.set_style('darkgrid')\n",
    "from PIL import Image\n",
    "from sklearn.metrics import confusion_matrix, classification_report\n"
   ]
  },
  {
   "cell_type": "markdown",
   "metadata": {},
   "source": [
    ""
   ]
  },
  {
   "cell_type": "markdown",
   "metadata": {},
   "source": [
    "**Now We will get all the images from the dataset and store the paths as well as their labels**"
   ]
  },
  {
   "cell_type": "code",
   "execution_count": 3,
   "metadata": {
    "execution": {
     "iopub.execute_input": "2021-08-22T14:58:58.613189Z",
     "iopub.status.busy": "2021-08-22T14:58:58.612911Z",
     "iopub.status.idle": "2021-08-22T14:59:31.130344Z",
     "shell.execute_reply": "2021-08-22T14:59:31.129443Z",
     "shell.execute_reply.started": "2021-08-22T14:58:58.613159Z"
    }
   },
   "outputs": [],
   "source": [
    "img_paths=[]\n",
    "img_labels=[]\n",
    "for i in glob('../input/satellite-images-of-hurricane-damage/**',recursive=True):\n",
    "    if i.endswith('.jpeg'):\n",
    "        a=i.split('/')\n",
    "        img_paths.append(i)\n",
    "        img_labels.append(a[-2])"
   ]
  },
  {
   "cell_type": "code",
   "execution_count": 4,
   "metadata": {
    "execution": {
     "iopub.execute_input": "2021-08-22T14:59:31.132338Z",
     "iopub.status.busy": "2021-08-22T14:59:31.132002Z",
     "iopub.status.idle": "2021-08-22T14:59:31.142230Z",
     "shell.execute_reply": "2021-08-22T14:59:31.141231Z",
     "shell.execute_reply.started": "2021-08-22T14:59:31.132305Z"
    }
   },
   "outputs": [
    {
     "data": {
      "text/plain": [
       "(23000, 23000)"
      ]
     },
     "execution_count": 4,
     "metadata": {},
     "output_type": "execute_result"
    }
   ],
   "source": [
    "len(img_paths),len(img_labels)"
   ]
  },
  {
   "cell_type": "code",
   "execution_count": 5,
   "metadata": {
    "execution": {
     "iopub.execute_input": "2021-08-22T14:59:31.144538Z",
     "iopub.status.busy": "2021-08-22T14:59:31.144028Z",
     "iopub.status.idle": "2021-08-22T14:59:31.153632Z",
     "shell.execute_reply": "2021-08-22T14:59:31.152562Z",
     "shell.execute_reply.started": "2021-08-22T14:59:31.144481Z"
    }
   },
   "outputs": [
    {
     "name": "stdout",
     "output_type": "stream",
     "text": [
      "We got total 23000 images\n"
     ]
    }
   ],
   "source": [
    "print('We got total '+str(len(img_paths))+' images')"
   ]
  },
  {
   "cell_type": "markdown",
   "metadata": {},
   "source": [
    "**Saving the image paths and their labels into dataframe**"
   ]
  },
  {
   "cell_type": "code",
   "execution_count": 6,
   "metadata": {
    "execution": {
     "iopub.execute_input": "2021-08-22T14:59:31.155481Z",
     "iopub.status.busy": "2021-08-22T14:59:31.155102Z",
     "iopub.status.idle": "2021-08-22T14:59:31.187892Z",
     "shell.execute_reply": "2021-08-22T14:59:31.186903Z",
     "shell.execute_reply.started": "2021-08-22T14:59:31.155442Z"
    }
   },
   "outputs": [
    {
     "data": {
      "text/html": [
       "<div>\n",
       "<style scoped>\n",
       "    .dataframe tbody tr th:only-of-type {\n",
       "        vertical-align: middle;\n",
       "    }\n",
       "\n",
       "    .dataframe tbody tr th {\n",
       "        vertical-align: top;\n",
       "    }\n",
       "\n",
       "    .dataframe thead th {\n",
       "        text-align: right;\n",
       "    }\n",
       "</style>\n",
       "<table border=\"1\" class=\"dataframe\">\n",
       "  <thead>\n",
       "    <tr style=\"text-align: right;\">\n",
       "      <th></th>\n",
       "      <th>0</th>\n",
       "      <th>1</th>\n",
       "    </tr>\n",
       "  </thead>\n",
       "  <tbody>\n",
       "    <tr>\n",
       "      <th>11170</th>\n",
       "      <td>../input/satellite-images-of-hurricane-damage/test_another/damage/-93.813652_30.041533.jpeg</td>\n",
       "      <td>damage</td>\n",
       "    </tr>\n",
       "    <tr>\n",
       "      <th>137</th>\n",
       "      <td>../input/satellite-images-of-hurricane-damage/train_another/damage/-95.621915_29.781122999999997.jpeg</td>\n",
       "      <td>damage</td>\n",
       "    </tr>\n",
       "    <tr>\n",
       "      <th>11985</th>\n",
       "      <td>../input/satellite-images-of-hurricane-damage/test_another/damage/-96.874701_28.372926.jpeg</td>\n",
       "      <td>damage</td>\n",
       "    </tr>\n",
       "    <tr>\n",
       "      <th>5895</th>\n",
       "      <td>../input/satellite-images-of-hurricane-damage/train_another/no_damage/-95.629692_29.85973.jpeg</td>\n",
       "      <td>no_damage</td>\n",
       "    </tr>\n",
       "    <tr>\n",
       "      <th>22410</th>\n",
       "      <td>../input/satellite-images-of-hurricane-damage/test/no_damage/-95.157379_30.020831.jpeg</td>\n",
       "      <td>no_damage</td>\n",
       "    </tr>\n",
       "  </tbody>\n",
       "</table>\n",
       "</div>"
      ],
      "text/plain": [
       "                                                                                                           0  \\\n",
       "11170            ../input/satellite-images-of-hurricane-damage/test_another/damage/-93.813652_30.041533.jpeg   \n",
       "137    ../input/satellite-images-of-hurricane-damage/train_another/damage/-95.621915_29.781122999999997.jpeg   \n",
       "11985            ../input/satellite-images-of-hurricane-damage/test_another/damage/-96.874701_28.372926.jpeg   \n",
       "5895          ../input/satellite-images-of-hurricane-damage/train_another/no_damage/-95.629692_29.85973.jpeg   \n",
       "22410                 ../input/satellite-images-of-hurricane-damage/test/no_damage/-95.157379_30.020831.jpeg   \n",
       "\n",
       "               1  \n",
       "11170     damage  \n",
       "137       damage  \n",
       "11985     damage  \n",
       "5895   no_damage  \n",
       "22410  no_damage  "
      ]
     },
     "execution_count": 6,
     "metadata": {},
     "output_type": "execute_result"
    }
   ],
   "source": [
    "img_path = pd.Series(img_paths).astype(str)\n",
    "labels=pd.Series(img_labels)\n",
    "data = pd.concat([img_path,labels],axis=1)\n",
    "data.sample(5)"
   ]
  },
  {
   "cell_type": "code",
   "execution_count": 7,
   "metadata": {
    "execution": {
     "iopub.execute_input": "2021-08-22T14:59:31.189747Z",
     "iopub.status.busy": "2021-08-22T14:59:31.189383Z",
     "iopub.status.idle": "2021-08-22T14:59:31.381346Z",
     "shell.execute_reply": "2021-08-22T14:59:31.380412Z",
     "shell.execute_reply.started": "2021-08-22T14:59:31.189709Z"
    }
   },
   "outputs": [
    {
     "data": {
      "text/plain": [
       "<AxesSubplot:xlabel='1', ylabel='count'>"
      ]
     },
     "execution_count": 7,
     "metadata": {},
     "output_type": "execute_result"
    },
    {
     "data": {
      "image/png": "[encoded data removed]",
      "text/plain": [
       "<Figure size 1080x360 with 1 Axes>"
      ]
     },
     "metadata": {},
     "output_type": "display_data"
    }
   ],
   "source": [
    "plt.figure(figsize=(15,5))\n",
    "sns.countplot(x=data[1])"
   ]
  },
  {
   "cell_type": "markdown",
   "metadata": {},
   "source": [
    "> It seems the number of no damage is half than actual damage image."
   ]
  },
  {
   "cell_type": "code",
   "execution_count": 8,
   "metadata": {
    "execution": {
     "iopub.execute_input": "2021-08-22T14:59:31.385229Z",
     "iopub.status.busy": "2021-08-22T14:59:31.384709Z",
     "iopub.status.idle": "2021-08-22T14:59:31.397634Z",
     "shell.execute_reply": "2021-08-22T14:59:31.396451Z",
     "shell.execute_reply.started": "2021-08-22T14:59:31.385186Z"
    }
   },
   "outputs": [
    {
     "data": {
      "text/plain": [
       "((17250, 2), (5750, 2))"
      ]
     },
     "execution_count": 8,
     "metadata": {},
     "output_type": "execute_result"
    }
   ],
   "source": [
    "from sklearn.model_selection import train_test_split\n",
    "train_set , test_set = train_test_split(data,test_size=0.25,random_state=0)\n",
    "train_set.shape,test_set.shape"
   ]
  },
  {
   "cell_type": "markdown",
   "metadata": {},
   "source": [
    "> Splitted the dataset into training and testing sets"
   ]
  },
  {
   "cell_type": "code",
   "execution_count": 9,
   "metadata": {
    "execution": {
     "iopub.execute_input": "2021-08-22T14:59:31.400280Z",
     "iopub.status.busy": "2021-08-22T14:59:31.399925Z",
     "iopub.status.idle": "2021-08-22T14:59:31.404608Z",
     "shell.execute_reply": "2021-08-22T14:59:31.403416Z",
     "shell.execute_reply.started": "2021-08-22T14:59:31.400243Z"
    }
   },
   "outputs": [],
   "source": [
    "import tensorflow as tf\n",
    "from tensorflow.keras.preprocessing.image import ImageDataGenerator\n",
    "from tensorflow import keras"
   ]
  },
  {
   "cell_type": "code",
   "execution_count": 10,
   "metadata": {
    "execution": {
     "iopub.execute_input": "2021-08-22T14:59:31.406909Z",
     "iopub.status.busy": "2021-08-22T14:59:31.406293Z",
     "iopub.status.idle": "2021-08-22T14:59:38.601900Z",
     "shell.execute_reply": "2021-08-22T14:59:38.600979Z",
     "shell.execute_reply.started": "2021-08-22T14:59:31.406869Z"
    }
   },
   "outputs": [
    {
     "name": "stdout",
     "output_type": "stream",
     "text": [
      "Found 15525 validated image filenames belonging to 2 classes.\n",
      "Found 1725 validated image filenames belonging to 2 classes.\n",
      "Found 5750 validated image filenames belonging to 2 classes.\n"
     ]
    }
   ],
   "source": [
    "train_gen = ImageDataGenerator(validation_split=0.1)\n",
    "test_gen = ImageDataGenerator()\n",
    "\n",
    "train_data = train_gen.flow_from_dataframe(\n",
    "    dataframe = train_set,\n",
    "    x_col = 0,\n",
    "    y_col = 1,\n",
    "    target_size = (227,227),\n",
    "    color_mode = 'rgb',\n",
    "    class_mode = 'categorical',\n",
    "    shuffle = True,\n",
    "    subset = 'training',\n",
    "    batch_size=100\n",
    ")\n",
    "\n",
    "val_data = train_gen.flow_from_dataframe(\n",
    "    dataframe = train_set,\n",
    "    x_col = 0,\n",
    "    y_col = 1,\n",
    "    target_size = (227,227),\n",
    "    color_mode = 'rgb',\n",
    "    class_mode = 'categorical',\n",
    "    shuffle = False,\n",
    "    subset = 'validation',\n",
    "    batch_size=100\n",
    ")\n",
    "\n",
    "test_data = test_gen.flow_from_dataframe(\n",
    "    dataframe = test_set,\n",
    "    x_col = 0,\n",
    "    y_col = 1,\n",
    "    target_size = (227,227),\n",
    "    color_mode = 'rgb',\n",
    "    class_mode = 'categorical',\n",
    "    shuffle = False,\n",
    "    batch_size=100\n",
    ")"
   ]
  },
  {
   "cell_type": "code",
   "execution_count": null,
   "metadata": {},
   "outputs": [],
   "source": []
  },
  {
   "cell_type": "code",
   "execution_count": null,
   "metadata": {},
   "outputs": [],
   "source": []
  },
  {
   "cell_type": "code",
   "execution_count": null,
   "metadata": {},
   "outputs": [],
   "source": []
  },
  {
   "cell_type": "code",
   "execution_count": null,
   "metadata": {},
   "outputs": [],
   "source": []
  },
  {
   "cell_type": "code",
   "execution_count": 11,
   "metadata": {
    "execution": {
     "iopub.execute_input": "2021-08-22T14:59:38.603654Z",
     "iopub.status.busy": "2021-08-22T14:59:38.603151Z",
     "iopub.status.idle": "2021-08-22T14:59:38.609444Z",
     "shell.execute_reply": "2021-08-22T14:59:38.608651Z",
     "shell.execute_reply.started": "2021-08-22T14:59:38.603616Z"
    }
   },
   "outputs": [],
   "source": [
    "batch_size=80\n",
    "length=len(val_data)\n",
    "val_batch_size=sorted([int(length/n) for n in range(1,length+1) if length % n ==0 and length/n<=80],reverse=True)[0]  \n",
    "val_steps=int(length/val_batch_size)"
   ]
  },
  {
   "cell_type": "code",
   "execution_count": 12,
   "metadata": {
    "execution": {
     "iopub.execute_input": "2021-08-22T14:59:38.611260Z",
     "iopub.status.busy": "2021-08-22T14:59:38.610870Z",
     "iopub.status.idle": "2021-08-22T14:59:38.620314Z",
     "shell.execute_reply": "2021-08-22T14:59:38.619476Z",
     "shell.execute_reply.started": "2021-08-22T14:59:38.611222Z"
    }
   },
   "outputs": [],
   "source": [
    "def print_in_color(txt_msg,fore_tupple,back_tupple,):\n",
    "    #prints the text_msg in the foreground color specified by fore_tupple with the background specified by back_tupple \n",
    "    #text_msg is the text, fore_tupple is foregroud color tupple (r,g,b), back_tupple is background tupple (r,g,b)\n",
    "    rf,gf,bf=fore_tupple\n",
    "    rb,gb,bb=back_tupple\n",
    "    msg='{0}' + txt_msg\n",
    "    mat='\\33[38;2;' + str(rf) +';' + str(gf) + ';' + str(bf) + ';48;2;' + str(rb) + ';' +str(gb) + ';' + str(bb) +'m' \n",
    "    print(msg .format(mat), flush=True)\n",
    "    print('\\33[0m', flush=True) # returns default print color to back to black\n",
    "    return"
   ]
  },
  {
   "cell_type": "code",
   "execution_count": 13,
   "metadata": {
    "execution": {
     "iopub.execute_input": "2021-08-22T14:59:38.622094Z",
     "iopub.status.busy": "2021-08-22T14:59:38.621716Z",
     "iopub.status.idle": "2021-08-22T14:59:41.679575Z",
     "shell.execute_reply": "2021-08-22T14:59:41.678711Z",
     "shell.execute_reply.started": "2021-08-22T14:59:38.622057Z"
    }
   },
   "outputs": [
    {
     "name": "stdout",
     "output_type": "stream",
     "text": [
      "Downloading data from https://storage.googleapis.com/tensorflow/keras-applications/mobilenet/mobilenet_1_0_224_tf_no_top.h5\n",
      "17227776/17225924 [==============================] - 0s 0us/step\n"
     ]
    }
   ],
   "source": [
    "model_name='MobileNet'\n",
    "base_model=tf.keras.applications.mobilenet.MobileNet(include_top=False, weights=\"imagenet\",input_shape=(227,227,3), pooling='max') \n",
    "x=base_model.output\n",
    "x=keras.layers.BatchNormalization(axis=-1, momentum=0.99, epsilon=0.001 )(x)\n",
    "x = Dense(256, kernel_regularizer = regularizers.l2(l = 0.016),activity_regularizer=regularizers.l1(0.006),\n",
    "                bias_regularizer=regularizers.l1(0.006) ,activation='relu')(x)\n",
    "x=Dropout(rate=.45, seed=123)(x)        \n",
    "output=Dense(2, activation='softmax')(x)\n",
    "MobileNet=Model(inputs=base_model.input, outputs=output)\n",
    "MobileNet.compile(Adamax(lr=.001), loss='categorical_crossentropy', metrics=['accuracy']) "
   ]
  },
  {
   "cell_type": "code",
   "execution_count": 14,
   "metadata": {
    "execution": {
     "iopub.execute_input": "2021-08-22T14:59:41.681320Z",
     "iopub.status.busy": "2021-08-22T14:59:41.680976Z",
     "iopub.status.idle": "2021-08-22T14:59:41.708474Z",
     "shell.execute_reply": "2021-08-22T14:59:41.707185Z",
     "shell.execute_reply.started": "2021-08-22T14:59:41.681283Z"
    }
   },
   "outputs": [],
   "source": [
    "class LRA(keras.callbacks.Callback):\n",
    "    reset=False\n",
    "    count=0\n",
    "    stop_count=0\n",
    "    tepochs=0\n",
    "    def __init__(self,model, patience,stop_patience, threshold, factor, dwell, model_name, freeze,batches, initial_epoch):\n",
    "        super(LRA, self).__init__()\n",
    "        self.model=model\n",
    "        self.patience=patience # specifies how many epochs without improvement before learning rate is adjusted\n",
    "        self.stop_patience=stop_patience\n",
    "        self.threshold=threshold # specifies training accuracy threshold when lr will be adjusted based on validation loss\n",
    "        self.factor=factor # factor by which to reduce the learning rate\n",
    "        self.dwell=dwell\n",
    "        self.lr=float(tf.keras.backend.get_value(model.optimizer.lr)) # get the initiallearning rate and save it in self.lr\n",
    "        self.highest_tracc=0.0 # set highest training accuracy to 0\n",
    "        self.lowest_vloss=np.inf # set lowest validation loss to infinity\n",
    "        #self.count=0 # initialize counter that counts epochs with no improvement\n",
    "        #self.stop_count=0 # initialize counter that counts how manytimes lr has been adjustd with no improvement  \n",
    "        self.initial_epoch=initial_epoch \n",
    "        self.batches=batches\n",
    "        #self.epochs=epochs\n",
    "        best_weights=self.model.get_weights() # set a class vaiable so weights can be loaded after training is completed        \n",
    "        msg=' '\n",
    "        if freeze==True:\n",
    "            msgs=f' Starting training using  base model { model_name} with weights frozen to imagenet weights initializing LRA callback'\n",
    "        else:\n",
    "            msgs=f' Starting training using base model { model_name} training all layers '            \n",
    "        print_in_color (msgs, (244, 252, 3), (55,65,80)) \n",
    "    def on_train_begin(self, logs=None):\n",
    "        msg='{0:^8s}{1:^10s}{2:^9s}{3:^9s}{4:^9s}{5:^9s}{6:^9s}{7:^10s}{8:^8s}{9:^8s}'.format('Epoch', 'Loss', 'Accuracy',\n",
    "                                                                                              'V_loss','V_acc', 'LR', 'Next LR', 'Monitor', 'Duration', 'Batch')\n",
    "        print_in_color(msg, (244,252,3), (55,65,80)) \n",
    "        \n",
    "    def on_train_batch_end(self, batch, logs=None):\n",
    "        acc=logs.get('accuracy')* 100  # get training accuracy \n",
    "        loss=logs.get('loss')\n",
    "        msg='{0:20s}processing batch {1:4s} of {2:5s} accuracy= {3:8.3f}  loss: {4:8.5f}'.format(' ', str(batch), str(self.batches), acc, loss)\n",
    "        print(msg, '\\r', end='') # prints over on the same line to show running batch count accuracy and loss\n",
    "        \n",
    "        \n",
    "    def on_epoch_begin(self,epoch, logs=None):\n",
    "        self.now= time.time()\n",
    "        \n",
    "    def on_epoch_end(self, epoch, logs=None):  # method runs on the end of each epoch\n",
    "        later=time.time()\n",
    "        duration=later-self.now \n",
    "        lr=float(tf.keras.backend.get_value(self.model.optimizer.lr)) # get the current learning rate\n",
    "        current_lr=lr\n",
    "        v_loss=logs.get('val_loss')  # get the validation loss for this epoch\n",
    "        acc=logs.get('accuracy')  # get training accuracy \n",
    "        v_acc=logs.get('val_accuracy')\n",
    "        loss=logs.get('loss')\n",
    "        #print ( '\\n',v_loss, self.lowest_vloss, acc, self.highest_tracc)\n",
    "        if acc < self.threshold: # if training accuracy is below threshold adjust lr based on training accuracy\n",
    "            monitor='accuracy'\n",
    "            if acc>self.highest_tracc: # training accuracy improved in the epoch                \n",
    "                self.highest_tracc=acc # set new highest training accuracy\n",
    "                LRA.best_weights=self.model.get_weights() # traing accuracy improved so save the weights\n",
    "                self.count=0 # set count to 0 since training accuracy improved\n",
    "                self.stop_count=0 # set stop counter to 0\n",
    "                if v_loss<self.lowest_vloss:\n",
    "                    self.lowest_vloss=v_loss\n",
    "                color= (0,255,0)\n",
    "                self.lr=lr\n",
    "            else: \n",
    "                # training accuracy did not improve check if this has happened for patience number of epochs\n",
    "                # if so adjust learning rate\n",
    "                if self.count>=self.patience -1:\n",
    "                    color=(245, 170, 66)\n",
    "                    self.lr= lr* self.factor # adjust the learning by factor\n",
    "                    tf.keras.backend.set_value(self.model.optimizer.lr, self.lr) # set the learning rate in the optimizer\n",
    "                    self.count=0 # reset the count to 0\n",
    "                    self.stop_count=self.stop_count + 1\n",
    "                    if self.dwell:\n",
    "                        self.model.set_weights(LRA.best_weights) # return to better point in N space                        \n",
    "                    else:\n",
    "                        if v_loss<self.lowest_vloss:\n",
    "                            self.lowest_vloss=v_loss                                    \n",
    "                else:\n",
    "                    self.count=self.count +1 # increment patience counter                    \n",
    "        else: # training accuracy is above threshold so adjust learning rate based on validation loss\n",
    "            monitor='val_loss'\n",
    "            if v_loss< self.lowest_vloss: # check if the validation loss improved \n",
    "                self.lowest_vloss=v_loss # replace lowest validation loss with new validation loss                \n",
    "                LRA.best_weights=self.model.get_weights() # validation loss improved so save the weights\n",
    "                self.count=0 # reset count since validation loss improved  \n",
    "                self.stop_count=0  \n",
    "                color=(0,255,0)\n",
    "                self.lr=lr\n",
    "            else: # validation loss did not improve\n",
    "                if self.count>=self.patience-1:\n",
    "                    color=(245, 170, 66)\n",
    "                    self.lr=self.lr * self.factor # adjust the learning rate                    \n",
    "                    self.stop_count=self.stop_count + 1 # increment stop counter because lr was adjusted \n",
    "                    self.count=0 # reset counter\n",
    "                    tf.keras.backend.set_value(self.model.optimizer.lr, self.lr) # set the learning rate in the optimizer\n",
    "                    if self.dwell:\n",
    "                        self.model.set_weights(LRA.best_weights) # return to better point in N space\n",
    "                else: \n",
    "                    self.count =self.count +1 # increment the patience counter                    \n",
    "                if acc>self.highest_tracc:\n",
    "                    self.highest_tracc= acc\n",
    "        msg=f'{str(epoch+1):^3s}/{str(LRA.tepochs):4s} {loss:^9.3f}{acc*100:^9.3f}{v_loss:^9.5f}{v_acc*100:^9.3f}{current_lr:^9.5f}{self.lr:^9.5f}{monitor:^11s}{duration:^8.2f}'\n",
    "        print_in_color (msg,color, (55,65,80))\n",
    "        if self.stop_count> self.stop_patience - 1: # check if learning rate has been adjusted stop_count times with no improvement\n",
    "            msg=f' training has been halted at epoch {epoch + 1} after {self.stop_patience} adjustments of learning rate with no improvement'\n",
    "            print_in_color(msg, (0,255,0), (55,65,80))\n",
    "            self.model.stop_training = True # stop training"
   ]
  },
  {
   "cell_type": "code",
   "execution_count": 15,
   "metadata": {
    "execution": {
     "iopub.execute_input": "2021-08-22T14:59:41.711054Z",
     "iopub.status.busy": "2021-08-22T14:59:41.710255Z",
     "iopub.status.idle": "2021-08-22T15:12:36.151536Z",
     "shell.execute_reply": "2021-08-22T15:12:36.150667Z",
     "shell.execute_reply.started": "2021-08-22T14:59:41.710998Z"
    }
   },
   "outputs": [
    {
     "name": "stdout",
     "output_type": "stream",
     "text": [
      "\u001b[38;2;244;252;3;48;2;55;65;80m Starting training using base model <tensorflow.python.keras.engine.functional.Functional object at 0x7fe6281eac10> training all layers \n",
      "\u001b[0m\n",
      "\u001b[38;2;244;252;3;48;2;55;65;80m Epoch     Loss   Accuracy  V_loss    V_acc     LR     Next LR  Monitor  Duration Batch  \n",
      "\u001b[0m\n",
      "\u001b[38;2;0;255;0;48;2;55;65;80m 1 /10     3.849   94.815   1.97028  94.377   0.00100  0.00100  val_loss   110.53 \n",
      "\u001b[0m\n",
      "\u001b[38;2;0;255;0;48;2;55;65;80m 2 /10     1.177   98.576   0.75294  98.261   0.00100  0.00100  val_loss   73.81  \n",
      "\u001b[0m\n",
      "\u001b[38;2;0;255;0;48;2;55;65;80m 3 /10     0.521   99.478   0.37154  99.014   0.00100  0.00100  val_loss   73.19  \n",
      "\u001b[0m\n",
      "\u001b[38;2;0;255;0;48;2;55;65;80m 4 /10     0.278   99.884   0.21682  99.246   0.00100  0.00100  val_loss   73.66  \n",
      "\u001b[0m\n",
      "\u001b[38;2;0;255;0;48;2;55;65;80m 5 /10     0.174   99.942   0.14645  99.420   0.00100  0.00100  val_loss   73.95  \n",
      "\u001b[0m\n",
      "\u001b[38;2;0;255;0;48;2;55;65;80m 6 /10     0.128   99.897   0.11891  99.246   0.00100  0.00100  val_loss   73.66  \n",
      "\u001b[0m\n",
      "\u001b[38;2;0;255;0;48;2;55;65;80m 7 /10     0.104   99.968   0.10127  99.362   0.00100  0.00100  val_loss   73.71  \n",
      "\u001b[0m\n",
      "\u001b[38;2;0;255;0;48;2;55;65;80m 8 /10     0.090   99.974   0.08916  99.188   0.00100  0.00100  val_loss   73.51  \n",
      "\u001b[0m\n",
      "\u001b[38;2;0;255;0;48;2;55;65;80m 9 /10     0.083   99.955   0.08355  99.362   0.00100  0.00100  val_loss   73.32  \n",
      "\u001b[0m\n",
      "\u001b[38;2;0;255;0;48;2;55;65;80m10 /10     0.076   99.987   0.07775  99.362   0.00100  0.00100  val_loss   73.73  \n",
      "\u001b[0m\n"
     ]
    }
   ],
   "source": [
    "epochs = 10\n",
    "patience= 1 # number of epochs to wait to adjust lr if monitored value does not improve\n",
    "stop_patience =2 # number of epochs to wait before stopping training if monitored value does not improve\n",
    "threshold=.9 # if train accuracy is < threshhold adjust monitor accuracy, else monitor validation loss\n",
    "factor=.5 # factor to reduce lr by\n",
    "dwell=False # experimental, if True and monitored metric does not improve on current epoch set  modelweights back to weights of previous epoch\n",
    "freeze=False # if true free weights of  the base model\n",
    "\n",
    "callbacks=[LRA(model=MobileNet,patience=patience,stop_patience=stop_patience, threshold=threshold,\n",
    "                   factor=factor,dwell=dwell, model_name=MobileNet, freeze=freeze,batches=val_steps, initial_epoch=0 )]\n",
    "LRA.tepochs=epochs  # used to determine value of last epoch for printing\n",
    "history=MobileNet.fit(x=train_data,  epochs=epochs, verbose=0, callbacks=callbacks,  validation_data=val_data,\n",
    "               validation_steps=None,  shuffle=False,  initial_epoch=0)"
   ]
  },
  {
   "cell_type": "code",
   "execution_count": 16,
   "metadata": {
    "execution": {
     "iopub.execute_input": "2021-08-22T15:12:36.153738Z",
     "iopub.status.busy": "2021-08-22T15:12:36.153344Z",
     "iopub.status.idle": "2021-08-22T15:12:36.171278Z",
     "shell.execute_reply": "2021-08-22T15:12:36.170159Z",
     "shell.execute_reply.started": "2021-08-22T15:12:36.153676Z"
    }
   },
   "outputs": [],
   "source": [
    "def tr_plot(tr_data, start_epoch):\n",
    "    #Plot the training and validation data\n",
    "    tacc=tr_data.history['accuracy']\n",
    "    tloss=tr_data.history['loss']\n",
    "    vacc=tr_data.history['val_accuracy']\n",
    "    vloss=tr_data.history['val_loss']\n",
    "    Epoch_count=len(tacc)+ start_epoch\n",
    "    Epochs=[]\n",
    "    for i in range (start_epoch ,Epoch_count):\n",
    "        Epochs.append(i+1)   \n",
    "    index_loss=np.argmin(vloss)#  this is the epoch with the lowest validation loss\n",
    "    val_lowest=vloss[index_loss]\n",
    "    index_acc=np.argmax(vacc)\n",
    "    acc_highest=vacc[index_acc]\n",
    "    plt.style.use('fivethirtyeight')\n",
    "    sc_label='best epoch= '+ str(index_loss+1 +start_epoch)\n",
    "    vc_label='best epoch= '+ str(index_acc + 1+ start_epoch)\n",
    "    fig,axes=plt.subplots(nrows=1, ncols=2, figsize=(20,8))\n",
    "    axes[0].plot(Epochs,tloss, 'r', label='Training loss')\n",
    "    axes[0].plot(Epochs,vloss,'g',label='Validation loss' )\n",
    "    axes[0].scatter(index_loss+1 +start_epoch,val_lowest, s=150, c= 'blue', label=sc_label)\n",
    "    axes[0].set_title('Training and Validation Loss')\n",
    "    axes[0].set_xlabel('Epochs')\n",
    "    axes[0].set_ylabel('Loss')\n",
    "    axes[0].legend()\n",
    "    axes[1].plot (Epochs,tacc,'r',label= 'Training Accuracy')\n",
    "    axes[1].plot (Epochs,vacc,'g',label= 'Validation Accuracy')\n",
    "    axes[1].scatter(index_acc+1 +start_epoch,acc_highest, s=150, c= 'blue', label=vc_label)\n",
    "    axes[1].set_title('Training and Validation Accuracy')\n",
    "    axes[1].set_xlabel('Epochs')\n",
    "    axes[1].set_ylabel('Accuracy')\n",
    "    axes[1].legend()\n",
    "    plt.tight_layout\n",
    "    #plt.style.use('fivethirtyeight')\n",
    "    plt.show()\n"
   ]
  },
  {
   "cell_type": "code",
   "execution_count": 17,
   "metadata": {
    "execution": {
     "iopub.execute_input": "2021-08-22T15:12:36.173218Z",
     "iopub.status.busy": "2021-08-22T15:12:36.172637Z",
     "iopub.status.idle": "2021-08-22T15:12:38.297177Z",
     "shell.execute_reply": "2021-08-22T15:12:38.296252Z",
     "shell.execute_reply.started": "2021-08-22T15:12:36.173177Z"
    }
   },
   "outputs": [
    {
     "data": {
      "image/png": "[encoded data removed]",
      "text/plain": [
       "<Figure size 1440x576 with 2 Axes>"
      ]
     },
     "metadata": {},
     "output_type": "display_data"
    },
    {
     "name": "stdout",
     "output_type": "stream",
     "text": [
      "1/1 [==============================] - 0s 300ms/step - loss: 0.1260 - accuracy: 0.9800\n"
     ]
    }
   ],
   "source": [
    "tr_plot(history, 0)\n",
    "acc=MobileNet.evaluate(test_data, steps=val_steps, verbose=1)[1]*100\n",
    "msg='Model accuracy on test set: ' + str(acc)\n",
    "#print_in_color(msg, (0,255,0), (55,65,80))"
   ]
  },
  {
   "cell_type": "code",
   "execution_count": 18,
   "metadata": {
    "execution": {
     "iopub.execute_input": "2021-08-22T15:12:38.300754Z",
     "iopub.status.busy": "2021-08-22T15:12:38.300471Z",
     "iopub.status.idle": "2021-08-22T15:12:38.319424Z",
     "shell.execute_reply": "2021-08-22T15:12:38.318576Z",
     "shell.execute_reply.started": "2021-08-22T15:12:38.300724Z"
    }
   },
   "outputs": [],
   "source": [
    "def print_info( test_gen, preds, print_code, save_dir, subject ):\n",
    "    class_dict=test_gen.class_indices\n",
    "    labels= test_gen.labels\n",
    "    file_names= test_gen.filenames \n",
    "    error_list=[]\n",
    "    true_class=[]\n",
    "    pred_class=[]\n",
    "    prob_list=[]\n",
    "    new_dict={}\n",
    "    error_indices=[]\n",
    "    y_pred=[]\n",
    "    for key,value in class_dict.items():\n",
    "        new_dict[value]=key             # dictionary {integer of class number: string of class name}\n",
    "    # store new_dict as a text fine in the save_dir\n",
    "    classes=list(new_dict.values())     # list of string of class names\n",
    "    dict_as_text=str(new_dict)\n",
    "    dict_name= subject + '-' +str(len(classes)) +'.txt'  \n",
    "    dict_path=os.path.join(save_dir,dict_name)    \n",
    "    with open(dict_path, 'w') as x_file:\n",
    "        x_file.write(dict_as_text)    \n",
    "    errors=0      \n",
    "    for i, p in enumerate(preds):\n",
    "        pred_index=np.argmax(p)        \n",
    "        true_index=labels[i]  # labels are integer values\n",
    "        if pred_index != true_index: # a misclassification has occurred\n",
    "            error_list.append(file_names[i])\n",
    "            true_class.append(new_dict[true_index])\n",
    "            pred_class.append(new_dict[pred_index])\n",
    "            prob_list.append(p[pred_index])\n",
    "            error_indices.append(true_index)            \n",
    "            errors=errors + 1\n",
    "        y_pred.append(pred_index)    \n",
    "    if print_code !=0:\n",
    "        if errors>0:\n",
    "            if print_code>errors:\n",
    "                r=errors\n",
    "            else:\n",
    "                r=print_code           \n",
    "            msg='{0:^28s}{1:^28s}{2:^28s}{3:^16s}'.format('Filename', 'Predicted Class' , 'True Class', 'Probability')\n",
    "            print_in_color(msg, (0,255,0),(55,65,80))\n",
    "            for i in range(r):\n",
    "                msg='{0:^28s}{1:^28s}{2:^28s}{3:4s}{4:^6.4f}'.format(error_list[i], pred_class[i],true_class[i], ' ', prob_list[i])\n",
    "                print_in_color(msg, (255,255,255), (55,65,60))\n",
    "                #print(error_list[i]  , pred_class[i], true_class[i], prob_list[i])               \n",
    "        else:\n",
    "            msg='With accuracy of 100 % there are no errors to print'\n",
    "            print_in_color(msg, (0,255,0),(55,65,80))\n",
    "    if errors>0:\n",
    "        plot_bar=[]\n",
    "        plot_class=[]\n",
    "        for  key, value in new_dict.items():        \n",
    "            count=error_indices.count(key) \n",
    "            if count!=0:\n",
    "                plot_bar.append(count) # list containg how many times a class c had an error\n",
    "                plot_class.append(value)   # stores the class \n",
    "        fig=plt.figure()\n",
    "        fig.set_figheight(len(plot_class)/3)\n",
    "        fig.set_figwidth(10)\n",
    "        plt.style.use('fivethirtyeight')\n",
    "        for i in range(0, len(plot_class)):\n",
    "            c=plot_class[i]\n",
    "            x=plot_bar[i]\n",
    "            plt.barh(c, x, )\n",
    "            plt.title( ' Errors by Class on Test Set')\n",
    "    \n",
    "    if len(classes)<= 30:\n",
    "        # create a confusion matrix and a test report        \n",
    "        y_true= np.array(labels)        \n",
    "        y_pred=np.array(y_pred)        \n",
    "        cm = confusion_matrix(y_true, y_pred, normalize='true', )\n",
    "        clr = classification_report(y_true, y_pred, target_names=classes, digits=4)\n",
    "        length=len(classes)\n",
    "        if length<8:\n",
    "            fig_width=8\n",
    "            fig_height=8\n",
    "        else:\n",
    "            fig_width= int(length * .5)\n",
    "            fig_height= int(length * .5)\n",
    "        plt.figure(figsize=(fig_width, fig_height))\n",
    "        sns.heatmap(cm, annot=True, vmin=0, fmt='.2g',cmap='GnBu', cbar=False)       \n",
    "        plt.xticks(np.arange(length)+.5, classes, rotation= 90)\n",
    "        plt.yticks(np.arange(length)+.5, classes, rotation=0)\n",
    "        plt.xlabel(\"Predicted\")\n",
    "        plt.ylabel(\"Actual\")\n",
    "        plt.title(\"Confusion Matrix\")\n",
    "        plt.show()    \n",
    "        print(\"Classification Report:\\n----------------------\\n\", clr)"
   ]
  },
  {
   "cell_type": "code",
   "execution_count": 19,
   "metadata": {
    "execution": {
     "iopub.execute_input": "2021-08-22T15:12:38.321144Z",
     "iopub.status.busy": "2021-08-22T15:12:38.320701Z",
     "iopub.status.idle": "2021-08-22T15:13:14.164184Z",
     "shell.execute_reply": "2021-08-22T15:13:14.163303Z",
     "shell.execute_reply.started": "2021-08-22T15:12:38.321107Z"
    }
   },
   "outputs": [
    {
     "name": "stderr",
     "output_type": "stream",
     "text": [
      "/opt/conda/lib/python3.7/site-packages/tensorflow/python/keras/engine/training.py:1905: UserWarning: `Model.predict_generator` is deprecated and will be removed in a future version. Please use `Model.predict`, which supports generators.\n",
      "  warnings.warn('`Model.predict_generator` is deprecated and '\n"
     ]
    },
    {
     "name": "stdout",
     "output_type": "stream",
     "text": [
      "58/58 [==============================] - 36s 613ms/step\n"
     ]
    }
   ],
   "source": [
    "import math\n",
    "import numpy as np\n",
    "predictions = MobileNet.predict_generator(\n",
    "    test_data,\n",
    "    verbose=1,\n",
    "    steps=math.ceil(test_data.samples/test_data.batch_size))\n",
    "predicted_classes = np.argmax(predictions, axis=1) \n",
    "\n",
    "true_classes = test_data.classes\n",
    "class_labels = list(test_data.class_indices.keys()) "
   ]
  },
  {
   "cell_type": "code",
   "execution_count": 20,
   "metadata": {
    "execution": {
     "iopub.execute_input": "2021-08-22T15:13:14.166004Z",
     "iopub.status.busy": "2021-08-22T15:13:14.165618Z",
     "iopub.status.idle": "2021-08-22T15:13:14.532977Z",
     "shell.execute_reply": "2021-08-22T15:13:14.532014Z",
     "shell.execute_reply.started": "2021-08-22T15:13:14.165965Z"
    }
   },
   "outputs": [
    {
     "name": "stdout",
     "output_type": "stream",
     "text": [
      "0 : damage\n",
      "1 : no_damage\n"
     ]
    },
    {
     "data": {
      "text/plain": [
       "<AxesSubplot:title={'center':'Confusion Matrix'}, xlabel='Predicted label', ylabel='True label'>"
      ]
     },
     "execution_count": 20,
     "metadata": {},
     "output_type": "execute_result"
    },
    {
     "data": {
      "image/png": "[encoded data removed]",
      "text/plain": [
       "<Figure size 864x864 with 2 Axes>"
      ]
     },
     "metadata": {
      "needs_background": "light"
     },
     "output_type": "display_data"
    }
   ],
   "source": [
    "import matplotlib.pyplot as plt\n",
    "%matplotlib inline  \n",
    "import scikitplot as skplt\n",
    "\n",
    "[print(k, \":\", v) for k,v in enumerate(class_labels)]\n",
    "true_map_classes = [class_labels[x] for x in true_classes]\n",
    "predicted_map_classes = [class_labels[x] for x in predicted_classes]\n",
    "\n",
    "skplt.metrics.plot_confusion_matrix(\n",
    "    true_map_classes, \n",
    "    predicted_map_classes,\n",
    "    labels=class_labels,\n",
    "    x_tick_rotation=90,\n",
    "    figsize=(12,12), cmap='GnBu')"
   ]
  },
  {
   "cell_type": "code",
   "execution_count": 21,
   "metadata": {
    "execution": {
     "iopub.execute_input": "2021-08-22T15:13:14.534756Z",
     "iopub.status.busy": "2021-08-22T15:13:14.534269Z",
     "iopub.status.idle": "2021-08-22T15:13:14.556939Z",
     "shell.execute_reply": "2021-08-22T15:13:14.556014Z",
     "shell.execute_reply.started": "2021-08-22T15:13:14.534717Z"
    }
   },
   "outputs": [
    {
     "name": "stdout",
     "output_type": "stream",
     "text": [
      "              precision    recall  f1-score   support\n",
      "\n",
      "      damage     0.9847    0.9963    0.9904      3739\n",
      "   no_damage     0.9929    0.9712    0.9819      2011\n",
      "\n",
      "    accuracy                         0.9875      5750\n",
      "   macro avg     0.9888    0.9837    0.9862      5750\n",
      "weighted avg     0.9875    0.9875    0.9874      5750\n",
      "\n"
     ]
    }
   ],
   "source": [
    "from sklearn.metrics import classification_report\n",
    "report = classification_report(\n",
    "    true_classes,\n",
    "    predicted_classes,digits=4,\n",
    "    target_names=class_labels)\n",
    "print(report)"
   ]
  },
  {
   "cell_type": "code",
   "execution_count": 22,
   "metadata": {
    "execution": {
     "iopub.execute_input": "2021-08-22T15:13:14.558626Z",
     "iopub.status.busy": "2021-08-22T15:13:14.558264Z",
     "iopub.status.idle": "2021-08-22T15:13:14.838984Z",
     "shell.execute_reply": "2021-08-22T15:13:14.838179Z",
     "shell.execute_reply.started": "2021-08-22T15:13:14.558586Z"
    }
   },
   "outputs": [
    {
     "data": {
      "text/plain": [
       "<AxesSubplot:title={'center':'ROC Curves'}, xlabel='False Positive Rate', ylabel='True Positive Rate'>"
      ]
     },
     "execution_count": 22,
     "metadata": {},
     "output_type": "execute_result"
    },
    {
     "data": {
      "image/png": "[encoded data removed]",
      "text/plain": [
       "<Figure size 864x864 with 1 Axes>"
      ]
     },
     "metadata": {
      "needs_background": "light"
     },
     "output_type": "display_data"
    }
   ],
   "source": [
    "skplt.metrics.plot_roc(\n",
    "    true_classes,\n",
    "    predictions,\n",
    "    figsize=(12,12))"
   ]
  },
  {
   "cell_type": "code",
   "execution_count": null,
   "metadata": {},
   "outputs": [],
   "source": []
  },
  {
   "cell_type": "code",
   "execution_count": null,
   "metadata": {},
   "outputs": [],
   "source": []
  },
  {
   "cell_type": "code",
   "execution_count": null,
   "metadata": {},
   "outputs": [],
   "source": []
  },
  {
   "cell_type": "code",
   "execution_count": null,
   "metadata": {},
   "outputs": [],
   "source": []
  },
  {
   "cell_type": "code",
   "execution_count": null,
   "metadata": {},
   "outputs": [],
   "source": []
  },
  {
   "cell_type": "markdown",
   "metadata": {},
   "source": [
    "> Getting the Traininig, Validation & Testing images"
   ]
  }
 ],
 "metadata": {
  "kernelspec": {
   "display_name": "Python 3",
   "language": "python",
   "name": "python3"
  },
  "language_info": {
   "codemirror_mode": {
    "name": "ipython",
    "version": 3
   },
   "file_extension": ".py",
   "mimetype": "text/x-python",
   "name": "python",
   "nbconvert_exporter": "python",
   "pygments_lexer": "ipython3",
   "version": "3.8.8"
  }
 },
 "nbformat": 4,
 "nbformat_minor": 4
}
